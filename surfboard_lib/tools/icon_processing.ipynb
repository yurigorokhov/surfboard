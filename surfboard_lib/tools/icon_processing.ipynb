{
 "cells": [
  {
   "cell_type": "code",
   "execution_count": 2,
   "id": "dbce611d-a37e-47fc-b7f6-82f7d51e1485",
   "metadata": {},
   "outputs": [],
   "source": [
    "from PIL import Image\n",
    "import numpy as np"
   ]
  },
  {
   "cell_type": "code",
   "execution_count": 3,
   "id": "d443a3f6-a3db-4538-9eca-b57a1ee07113",
   "metadata": {},
   "outputs": [],
   "source": [
    "def crop_image(path, top, left, w, h, size=(25, 25), show=False, resize=True):\n",
    "    with Image.open(path) as im:\n",
    "        im = im.crop((top,left, top + h, left + w))\n",
    "        if resize:\n",
    "            im = im.resize(size)\n",
    "        if show:\n",
    "            im.show()\n",
    "        return im\n",
    "\n",
    "def to_binary(im):\n",
    "    img = np.array(im)  \n",
    "    return np.where(img>128, 255, 0)\n",
    "\n",
    "def to_rust(im, var_name=\"DATA\"):\n",
    "\n",
    "    rust_def = \"#[rustfmt::skip]\\n\"\n",
    "    rust_def += f\"pub const {var_name}: &[u8] = &[\"\n",
    "    for r in to_binary(im):\n",
    "        rust_def += \"\\n\"\n",
    "        result = []\n",
    "        buffer = \"0b\"\n",
    "        for elem in r:\n",
    "            buffer += \"1\" if elem == 255 else \"0\"\n",
    "            if len(buffer) == 10:\n",
    "                result.append(buffer)\n",
    "                buffer = \"0b\"\n",
    "        if len(buffer) > 2:\n",
    "            # make sure buffer has at least 8 elements\n",
    "            if len(buffer) < 10:\n",
    "                buffer += \"0\" * (10-len(buffer))\n",
    "            result.append(buffer)    \n",
    "        rust_def += \"\\t\" + ', '.join(result)\n",
    "        rust_def += \",\"\n",
    "    rust_def += \"\\n];\"\n",
    "    return rust_def\n",
    "    "
   ]
  },
  {
   "cell_type": "code",
   "execution_count": 16,
   "id": "872335b4-4e27-4326-9a7b-5e0b6da49d4b",
   "metadata": {},
   "outputs": [],
   "source": [
    "weather_data_rs = \"// Written by ./tools/icon_processing.ipynb\\n\\n\"\n",
    "\n",
    "size = (32, 32)\n",
    "\n",
    "# WEATHER_SUNNY\n",
    "im = crop_image(\"weather.png\", 25, 25, 100, 100, size=size, show=False, resize=True)\n",
    "weather_data_rs += to_rust(to_binary(im), var_name=\"WEATHER_SUNNY\")\n",
    "weather_data_rs += \"\\n\"\n",
    "\n",
    "im = crop_image(\"weather.png\", 175, 25, 100, 100, size=size, show=False, resize=True)\n",
    "weather_data_rs += to_rust(to_binary(im), var_name=\"MOSTLY_CLEAR\")\n",
    "weather_data_rs += \"\\n\"\n",
    "\n",
    "im = crop_image(\"weather.png\", 325, 25, 100, 100, show=False, resize=True)\n",
    "weather_data_rs += to_rust(to_binary(im), var_name=\"PARTLY_CLOUDY\")\n",
    "weather_data_rs += \"\\n\"\n",
    "\n",
    "im = crop_image(\"weather.png\", 475, 25, 100, 100, show=False, resize=True)\n",
    "weather_data_rs += to_rust(to_binary(im), var_name=\"MOSTLY_CLOUDY\")\n",
    "weather_data_rs += \"\\n\"\n",
    "\n",
    "im = crop_image(\"weather.png\", 25, 190, 100, 100, show=False, resize=True)\n",
    "weather_data_rs += to_rust(to_binary(im), var_name=\"SCATTERED_SHOWERS\")\n",
    "weather_data_rs += \"\\n\"\n",
    "\n",
    "im = crop_image(\"weather.png\", 175, 190, 100, 100, show=False, resize=True)\n",
    "weather_data_rs += to_rust(to_binary(im), var_name=\"SHOWERS\")\n",
    "weather_data_rs += \"\\n\"\n",
    "\n",
    "im = crop_image(\"weather.png\", 175, 520, 100, 100, show=False, resize=True)\n",
    "weather_data_rs += to_rust(to_binary(im), var_name=\"MIST\")\n",
    "weather_data_rs += \"\\n\"\n",
    "\n",
    "im = crop_image(\"weather.png\", 175, 355, 100, 100, show=False, resize=True)\n",
    "weather_data_rs += to_rust(to_binary(im), var_name=\"RAIN\")\n",
    "weather_data_rs += \"\\n\"\n",
    "\n",
    "with open(\"../src/image_data.rs\", \"w\") as f:\n",
    "    f.write(weather_data_rs)"
   ]
  },
  {
   "cell_type": "code",
   "execution_count": 15,
   "id": "0699c5ab-304a-4415-97ab-2850ec446752",
   "metadata": {},
   "outputs": [],
   "source": [
    "im = crop_image(\"weather.png\", 175, 355, 100, 100, show=True, resize=False)"
   ]
  },
  {
   "cell_type": "code",
   "execution_count": 14,
   "id": "0fcbc6f9-1bd9-4059-ab14-f0315f7b94dc",
   "metadata": {},
   "outputs": [
    {
     "data": {
      "text/plain": [
       "355"
      ]
     },
     "execution_count": 14,
     "metadata": {},
     "output_type": "execute_result"
    }
   ],
   "source": [
    "190+165"
   ]
  },
  {
   "cell_type": "code",
   "execution_count": null,
   "id": "6c60df84-7740-4595-96c7-99b21c54785d",
   "metadata": {},
   "outputs": [],
   "source": []
  }
 ],
 "metadata": {
  "kernelspec": {
   "display_name": "Python 3 (ipykernel)",
   "language": "python",
   "name": "python3"
  },
  "language_info": {
   "codemirror_mode": {
    "name": "ipython",
    "version": 3
   },
   "file_extension": ".py",
   "mimetype": "text/x-python",
   "name": "python",
   "nbconvert_exporter": "python",
   "pygments_lexer": "ipython3",
   "version": "3.11.9"
  }
 },
 "nbformat": 4,
 "nbformat_minor": 5
}
